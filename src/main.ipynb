{
 "cells": [
  {
   "cell_type": "markdown",
   "metadata": {},
   "source": [
    "<div style=\"text-align:center;color:#FFF;background-color:#FC3;height:100px\"> <h1>Importing libraries</h1></div>"
   ]
  },
  {
   "cell_type": "code",
   "execution_count": 111,
   "metadata": {},
   "outputs": [],
   "source": [
    "import pandas as pd\n",
    "import re\n",
    "import pycountry"
   ]
  },
  {
   "cell_type": "markdown",
   "metadata": {},
   "source": [
    "<div style=\"text-align:center;color:#FFF;background-color:#FC3;height:100px\"> <h1>Data exploration</h1></div>"
   ]
  },
  {
   "cell_type": "markdown",
   "metadata": {},
   "source": [
    "<div style=\"text-align: center\"> <h2>Overview</h2></div>"
   ]
  },
  {
   "cell_type": "code",
   "execution_count": 126,
   "metadata": {},
   "outputs": [
    {
     "data": {
      "text/plain": [
       "Job Type\n",
       "Full Time     3116\n",
       "Internship      75\n",
       "Part Time        6\n",
       "Name: Job Type, dtype: int64"
      ]
     },
     "execution_count": 126,
     "metadata": {},
     "output_type": "execute_result"
    }
   ],
   "source": [
    "df=pd.read_csv('dataset/df_job.csv', encoding = 'ISO-8859-1')\n",
    "df.groupby('Job Type')['Job Type'].count()"
   ]
  },
  {
   "cell_type": "code",
   "execution_count": 105,
   "metadata": {},
   "outputs": [
    {
     "name": "stdout",
     "output_type": "stream",
     "text": [
      "Rows: 3198\n",
      "Columns: 8\n"
     ]
    }
   ],
   "source": [
    "print(f'Rows: {df.shape[0]}\\nColumns: {df.shape[1]}')"
   ]
  },
  {
   "cell_type": "code",
   "execution_count": 106,
   "metadata": {},
   "outputs": [
    {
     "data": {
      "text/plain": [
       "Company                       object\n",
       "Job Title                     object\n",
       "Location                      object\n",
       "Job Type                      object\n",
       "Experience level              object\n",
       "Salary                        object\n",
       "Requirment of the company     object\n",
       "Facilities                    object\n",
       "dtype: object"
      ]
     },
     "execution_count": 106,
     "metadata": {},
     "output_type": "execute_result"
    }
   ],
   "source": [
    "df.dtypes"
   ]
  },
  {
   "cell_type": "markdown",
   "metadata": {},
   "source": [
    "<div style=\"background-color:#432D;\">\n",
    "<h4>Data field Job Salaries Dataset has <mark>8 columns</mark>, each are:</h4><ul>\n",
    "<li><b> <mark>1. Company</mark></b>: The name of company.</li>\n",
    "<li><b> <mark>2. Job Title</mark></b>: The role work.</li>\n",
    "<li><b> <mark>3. Location</mark></b>: Employee's primary country of residence with option remote.</li>\n",
    "<li><b> <mark>4. Job Type</mark></b>: The type of employment for the role</li>\n",
    "<li><b> <mark>5. Experience level</mark></b>: The experience level in the job</li>\n",
    "<li><b> <mark>6. Salary</mark></b>: offerd salary for this work role</li>\n",
    "<li><b> <mark>7. Requirment of the company</mark></b>: The skills that company want.</li>\n",
    "<li><b> <mark>8. Facilities</mark></b>: The flexibility of job.</li>\n",
    "</ul>\n",
    "</div>"
   ]
  },
  {
   "cell_type": "code",
   "execution_count": 107,
   "metadata": {},
   "outputs": [
    {
     "data": {
      "text/plain": [
       "Company                         1\n",
       "Job Title                       1\n",
       "Location                        1\n",
       "Job Type                        1\n",
       "Experience level              236\n",
       "Salary                        189\n",
       "Requirment of the company       0\n",
       "Facilities                      0\n",
       "dtype: int64"
      ]
     },
     "execution_count": 107,
     "metadata": {},
     "output_type": "execute_result"
    }
   ],
   "source": [
    "df.isnull().sum()"
   ]
  },
  {
   "cell_type": "code",
   "execution_count": 108,
   "metadata": {},
   "outputs": [
    {
     "data": {
      "text/plain": [
       "Company                       1106\n",
       "Job Title                     2138\n",
       "Location                      1117\n",
       "Job Type                         3\n",
       "Experience level                 4\n",
       "Salary                         218\n",
       "Requirment of the company     2600\n",
       "Facilities                     777\n",
       "dtype: int64"
      ]
     },
     "execution_count": 108,
     "metadata": {},
     "output_type": "execute_result"
    }
   ],
   "source": [
    "df.nunique()"
   ]
  },
  {
   "cell_type": "code",
   "execution_count": 109,
   "metadata": {},
   "outputs": [
    {
     "data": {
      "text/plain": [
       "202"
      ]
     },
     "execution_count": 109,
     "metadata": {},
     "output_type": "execute_result"
    }
   ],
   "source": [
    "df.duplicated().sum()"
   ]
  },
  {
   "cell_type": "code",
   "execution_count": 110,
   "metadata": {},
   "outputs": [
    {
     "data": {
      "text/html": [
       "<style type=\"text/css\">\n",
       "#T_17aec_row0_col0, #T_17aec_row0_col1, #T_17aec_row0_col2, #T_17aec_row0_col3, #T_17aec_row0_col4, #T_17aec_row0_col5, #T_17aec_row0_col6, #T_17aec_row0_col7, #T_17aec_row1_col0, #T_17aec_row1_col1, #T_17aec_row1_col2, #T_17aec_row1_col3, #T_17aec_row1_col4, #T_17aec_row1_col5, #T_17aec_row1_col6, #T_17aec_row1_col7, #T_17aec_row2_col0, #T_17aec_row2_col1, #T_17aec_row2_col2, #T_17aec_row2_col3, #T_17aec_row2_col5, #T_17aec_row2_col6, #T_17aec_row2_col7, #T_17aec_row3_col0, #T_17aec_row3_col1, #T_17aec_row3_col2, #T_17aec_row3_col3, #T_17aec_row3_col4, #T_17aec_row3_col5, #T_17aec_row3_col6, #T_17aec_row3_col7, #T_17aec_row4_col0, #T_17aec_row4_col1, #T_17aec_row4_col2, #T_17aec_row4_col3, #T_17aec_row4_col4, #T_17aec_row4_col5, #T_17aec_row4_col6, #T_17aec_row4_col7 {\n",
       "  background-color: #00b4;\n",
       "  color: white;\n",
       "  border-color: #8b8c8c;\n",
       "}\n",
       "#T_17aec_row2_col4 {\n",
       "  background-color: #00b4;\n",
       "  color: white;\n",
       "  border-color: #8b8c8c;\n",
       "  background-color: red;\n",
       "}\n",
       "</style>\n",
       "<table id=\"T_17aec\">\n",
       "  <thead>\n",
       "    <tr>\n",
       "      <th class=\"blank level0\" >&nbsp;</th>\n",
       "      <th id=\"T_17aec_level0_col0\" class=\"col_heading level0 col0\" >Company</th>\n",
       "      <th id=\"T_17aec_level0_col1\" class=\"col_heading level0 col1\" >Job Title</th>\n",
       "      <th id=\"T_17aec_level0_col2\" class=\"col_heading level0 col2\" >Location</th>\n",
       "      <th id=\"T_17aec_level0_col3\" class=\"col_heading level0 col3\" >Job Type</th>\n",
       "      <th id=\"T_17aec_level0_col4\" class=\"col_heading level0 col4\" >Experience level</th>\n",
       "      <th id=\"T_17aec_level0_col5\" class=\"col_heading level0 col5\" >Salary</th>\n",
       "      <th id=\"T_17aec_level0_col6\" class=\"col_heading level0 col6\" >Requirment of the company </th>\n",
       "      <th id=\"T_17aec_level0_col7\" class=\"col_heading level0 col7\" >Facilities</th>\n",
       "    </tr>\n",
       "  </thead>\n",
       "  <tbody>\n",
       "    <tr>\n",
       "      <th id=\"T_17aec_level0_row0\" class=\"row_heading level0 row0\" >0</th>\n",
       "      <td id=\"T_17aec_row0_col0\" class=\"data row0 col0\" >SGS</td>\n",
       "      <td id=\"T_17aec_row0_col1\" class=\"data row0 col1\" >Clinical Data Analyst</td>\n",
       "      <td id=\"T_17aec_row0_col2\" class=\"data row0 col2\" >Richardson, TX, United States</td>\n",
       "      <td id=\"T_17aec_row0_col3\" class=\"data row0 col3\" >Full Time</td>\n",
       "      <td id=\"T_17aec_row0_col4\" class=\"data row0 col4\" >Entry-level</td>\n",
       "      <td id=\"T_17aec_row0_col5\" class=\"data row0 col5\" > 48K+ *</td>\n",
       "      <td id=\"T_17aec_row0_col6\" class=\"data row0 col6\" >Computer Science,Data quality,Genetics,Mathematics,SAS,Statistics</td>\n",
       "      <td id=\"T_17aec_row0_col7\" class=\"data row0 col7\" >,,,,</td>\n",
       "    </tr>\n",
       "    <tr>\n",
       "      <th id=\"T_17aec_level0_row1\" class=\"row_heading level0 row1\" >1</th>\n",
       "      <td id=\"T_17aec_row1_col0\" class=\"data row1 col0\" >Ocorian</td>\n",
       "      <td id=\"T_17aec_row1_col1\" class=\"data row1 col1\" >AML/CFT & Data Analyst</td>\n",
       "      <td id=\"T_17aec_row1_col2\" class=\"data row1 col2\" >Ebène, Mauritius</td>\n",
       "      <td id=\"T_17aec_row1_col3\" class=\"data row1 col3\" >Full Time</td>\n",
       "      <td id=\"T_17aec_row1_col4\" class=\"data row1 col4\" >Entry-level</td>\n",
       "      <td id=\"T_17aec_row1_col5\" class=\"data row1 col5\" > 48K+ *</td>\n",
       "      <td id=\"T_17aec_row1_col6\" class=\"data row1 col6\" >Agile,Data management,Finance,Security,,</td>\n",
       "      <td id=\"T_17aec_row1_col7\" class=\"data row1 col7\" >,,,,</td>\n",
       "    </tr>\n",
       "    <tr>\n",
       "      <th id=\"T_17aec_level0_row2\" class=\"row_heading level0 row2\" >2</th>\n",
       "      <td id=\"T_17aec_row2_col0\" class=\"data row2 col0\" >Cricut</td>\n",
       "      <td id=\"T_17aec_row2_col1\" class=\"data row2 col1\" >Machine Learning Engineer</td>\n",
       "      <td id=\"T_17aec_row2_col2\" class=\"data row2 col2\" >South Jordan, UT, United States</td>\n",
       "      <td id=\"T_17aec_row2_col3\" class=\"data row2 col3\" >Full Time</td>\n",
       "      <td id=\"T_17aec_row2_col4\" class=\"data row2 col4\" >nan</td>\n",
       "      <td id=\"T_17aec_row2_col5\" class=\"data row2 col5\" > 90K+ *</td>\n",
       "      <td id=\"T_17aec_row2_col6\" class=\"data row2 col6\" >Agile,Architecture,AWS,Computer Science,Computer Vision,Deep Learning</td>\n",
       "      <td id=\"T_17aec_row2_col7\" class=\"data row2 col7\" >Career development,,,,</td>\n",
       "    </tr>\n",
       "    <tr>\n",
       "      <th id=\"T_17aec_level0_row3\" class=\"row_heading level0 row3\" >3</th>\n",
       "      <td id=\"T_17aec_row3_col0\" class=\"data row3 col0\" >Bosch Group</td>\n",
       "      <td id=\"T_17aec_row3_col1\" class=\"data row3 col1\" >Application Developer & Data Analyst</td>\n",
       "      <td id=\"T_17aec_row3_col2\" class=\"data row3 col2\" >Nonantola, Italy</td>\n",
       "      <td id=\"T_17aec_row3_col3\" class=\"data row3 col3\" >Full Time</td>\n",
       "      <td id=\"T_17aec_row3_col4\" class=\"data row3 col4\" >Entry-level</td>\n",
       "      <td id=\"T_17aec_row3_col5\" class=\"data row3 col5\" > 48K+ *</td>\n",
       "      <td id=\"T_17aec_row3_col6\" class=\"data row3 col6\" >Engineering,Industrial,Oracle,Power BI,R,R&D</td>\n",
       "      <td id=\"T_17aec_row3_col7\" class=\"data row3 col7\" >,,,,</td>\n",
       "    </tr>\n",
       "    <tr>\n",
       "      <th id=\"T_17aec_level0_row4\" class=\"row_heading level0 row4\" >4</th>\n",
       "      <td id=\"T_17aec_row4_col0\" class=\"data row4 col0\" >Publicis Groupe</td>\n",
       "      <td id=\"T_17aec_row4_col1\" class=\"data row4 col1\" >Data Engineer Full time (Public Sector) USA</td>\n",
       "      <td id=\"T_17aec_row4_col2\" class=\"data row4 col2\" >Arlington, VA, United States</td>\n",
       "      <td id=\"T_17aec_row4_col3\" class=\"data row4 col3\" >Full Time</td>\n",
       "      <td id=\"T_17aec_row4_col4\" class=\"data row4 col4\" >Mid-level</td>\n",
       "      <td id=\"T_17aec_row4_col5\" class=\"data row4 col5\" > 108K+</td>\n",
       "      <td id=\"T_17aec_row4_col6\" class=\"data row4 col6\" >AWS,Azure,Computer Science,Consulting,Dataflow,Data pipelines</td>\n",
       "      <td id=\"T_17aec_row4_col7\" class=\"data row4 col7\" >Flex hours,Flex vacation,Parental leave,Unlimited paid time off,</td>\n",
       "    </tr>\n",
       "  </tbody>\n",
       "</table>\n"
      ],
      "text/plain": [
       "<pandas.io.formats.style.Styler at 0x20704dffb50>"
      ]
     },
     "execution_count": 110,
     "metadata": {},
     "output_type": "execute_result"
    }
   ],
   "source": [
    "df.head().style.set_properties(**{'background-color': '#00b4','color': 'white','border-color': '#8b8c8c'}).highlight_null(color=\"red\")"
   ]
  },
  {
   "cell_type": "code",
   "execution_count": 7,
   "metadata": {},
   "outputs": [
    {
     "data": {
      "text/html": [
       "<style type=\"text/css\">\n",
       "#T_9cfb4_row0_col0, #T_9cfb4_row0_col1, #T_9cfb4_row0_col2, #T_9cfb4_row0_col3, #T_9cfb4_row0_col4, #T_9cfb4_row0_col5, #T_9cfb4_row0_col6, #T_9cfb4_row0_col7, #T_9cfb4_row1_col0, #T_9cfb4_row1_col1, #T_9cfb4_row1_col2, #T_9cfb4_row1_col3, #T_9cfb4_row1_col4, #T_9cfb4_row1_col5, #T_9cfb4_row1_col6, #T_9cfb4_row1_col7, #T_9cfb4_row2_col0, #T_9cfb4_row2_col1, #T_9cfb4_row2_col2, #T_9cfb4_row2_col3, #T_9cfb4_row2_col4, #T_9cfb4_row2_col5, #T_9cfb4_row2_col6, #T_9cfb4_row2_col7, #T_9cfb4_row3_col0, #T_9cfb4_row3_col1, #T_9cfb4_row3_col2, #T_9cfb4_row3_col3, #T_9cfb4_row3_col4, #T_9cfb4_row3_col5, #T_9cfb4_row3_col6, #T_9cfb4_row3_col7, #T_9cfb4_row4_col0, #T_9cfb4_row4_col1, #T_9cfb4_row4_col2, #T_9cfb4_row4_col3, #T_9cfb4_row4_col4, #T_9cfb4_row4_col5, #T_9cfb4_row4_col6, #T_9cfb4_row4_col7 {\n",
       "  background-color: #00b9;\n",
       "  color: white;\n",
       "  border-color: #8b8c8c;\n",
       "  highlight_null: red;\n",
       "}\n",
       "</style>\n",
       "<table id=\"T_9cfb4\">\n",
       "  <thead>\n",
       "    <tr>\n",
       "      <th class=\"blank level0\" >&nbsp;</th>\n",
       "      <th id=\"T_9cfb4_level0_col0\" class=\"col_heading level0 col0\" >Company</th>\n",
       "      <th id=\"T_9cfb4_level0_col1\" class=\"col_heading level0 col1\" >Job Title</th>\n",
       "      <th id=\"T_9cfb4_level0_col2\" class=\"col_heading level0 col2\" >Location</th>\n",
       "      <th id=\"T_9cfb4_level0_col3\" class=\"col_heading level0 col3\" >Job Type</th>\n",
       "      <th id=\"T_9cfb4_level0_col4\" class=\"col_heading level0 col4\" >Experience level</th>\n",
       "      <th id=\"T_9cfb4_level0_col5\" class=\"col_heading level0 col5\" >Salary</th>\n",
       "      <th id=\"T_9cfb4_level0_col6\" class=\"col_heading level0 col6\" >Requirment of the company </th>\n",
       "      <th id=\"T_9cfb4_level0_col7\" class=\"col_heading level0 col7\" >Facilities</th>\n",
       "    </tr>\n",
       "  </thead>\n",
       "  <tbody>\n",
       "    <tr>\n",
       "      <th id=\"T_9cfb4_level0_row0\" class=\"row_heading level0 row0\" >3193</th>\n",
       "      <td id=\"T_9cfb4_row0_col0\" class=\"data row0 col0\" >Western Digital</td>\n",
       "      <td id=\"T_9cfb4_row0_col1\" class=\"data row0 col1\" >Data Scientist - New College Graduate</td>\n",
       "      <td id=\"T_9cfb4_row0_col2\" class=\"data row0 col2\" >Biñan, Philippines</td>\n",
       "      <td id=\"T_9cfb4_row0_col3\" class=\"data row0 col3\" >Full Time</td>\n",
       "      <td id=\"T_9cfb4_row0_col4\" class=\"data row0 col4\" >Entry-level</td>\n",
       "      <td id=\"T_9cfb4_row0_col5\" class=\"data row0 col5\" > 39K+ *</td>\n",
       "      <td id=\"T_9cfb4_row0_col6\" class=\"data row0 col6\" >APIs,Clustering,Computer Science,Data visualization,Deep Learning,Docker</td>\n",
       "      <td id=\"T_9cfb4_row0_col7\" class=\"data row0 col7\" >Career development,,,,</td>\n",
       "    </tr>\n",
       "    <tr>\n",
       "      <th id=\"T_9cfb4_level0_row1\" class=\"row_heading level0 row1\" >3194</th>\n",
       "      <td id=\"T_9cfb4_row1_col0\" class=\"data row1 col0\" >Experian</td>\n",
       "      <td id=\"T_9cfb4_row1_col1\" class=\"data row1 col1\" >Cloud Data Analyst</td>\n",
       "      <td id=\"T_9cfb4_row1_col2\" class=\"data row1 col2\" >Heredia, Costa Rica</td>\n",
       "      <td id=\"T_9cfb4_row1_col3\" class=\"data row1 col3\" >Full Time</td>\n",
       "      <td id=\"T_9cfb4_row1_col4\" class=\"data row1 col4\" >Senior-level</td>\n",
       "      <td id=\"T_9cfb4_row1_col5\" class=\"data row1 col5\" > 92K+ *</td>\n",
       "      <td id=\"T_9cfb4_row1_col6\" class=\"data row1 col6\" >AWS,Big Data,Computer Science,GCP,Snowflake,SQL</td>\n",
       "      <td id=\"T_9cfb4_row1_col7\" class=\"data row1 col7\" >Equity,Medical leave,Salary bonus,,</td>\n",
       "    </tr>\n",
       "    <tr>\n",
       "      <th id=\"T_9cfb4_level0_row2\" class=\"row_heading level0 row2\" >3195</th>\n",
       "      <td id=\"T_9cfb4_row2_col0\" class=\"data row2 col0\" >Locus Robotics</td>\n",
       "      <td id=\"T_9cfb4_row2_col1\" class=\"data row2 col1\" >Robotics Engineer, Sensors</td>\n",
       "      <td id=\"T_9cfb4_row2_col2\" class=\"data row2 col2\" >Wilmington, MA, United States</td>\n",
       "      <td id=\"T_9cfb4_row2_col3\" class=\"data row2 col3\" >Full Time</td>\n",
       "      <td id=\"T_9cfb4_row2_col4\" class=\"data row2 col4\" >Senior-level</td>\n",
       "      <td id=\"T_9cfb4_row2_col5\" class=\"data row2 col5\" > 62K+ *</td>\n",
       "      <td id=\"T_9cfb4_row2_col6\" class=\"data row2 col6\" >E-commerce,Engineering,Linux,Python,Robotics,Statistics</td>\n",
       "      <td id=\"T_9cfb4_row2_col7\" class=\"data row2 col7\" >,,,,</td>\n",
       "    </tr>\n",
       "    <tr>\n",
       "      <th id=\"T_9cfb4_level0_row3\" class=\"row_heading level0 row3\" >3196</th>\n",
       "      <td id=\"T_9cfb4_row3_col0\" class=\"data row3 col0\" >ATB Financial</td>\n",
       "      <td id=\"T_9cfb4_row3_col1\" class=\"data row3 col1\" >Data Scientist</td>\n",
       "      <td id=\"T_9cfb4_row3_col2\" class=\"data row3 col2\" >Edmonton, Alberta, Canada</td>\n",
       "      <td id=\"T_9cfb4_row3_col3\" class=\"data row3 col3\" >Full Time</td>\n",
       "      <td id=\"T_9cfb4_row3_col4\" class=\"data row3 col4\" >Entry-level</td>\n",
       "      <td id=\"T_9cfb4_row3_col5\" class=\"data row3 col5\" > 39K+ *</td>\n",
       "      <td id=\"T_9cfb4_row3_col6\" class=\"data row3 col6\" >Computer Science,Data Analytics,Data Mining,Economics,Engineering,GCP</td>\n",
       "      <td id=\"T_9cfb4_row3_col7\" class=\"data row3 col7\" >Career development,Startup environment,,,</td>\n",
       "    </tr>\n",
       "    <tr>\n",
       "      <th id=\"T_9cfb4_level0_row4\" class=\"row_heading level0 row4\" >3197</th>\n",
       "      <td id=\"T_9cfb4_row4_col0\" class=\"data row4 col0\" >Shippeo</td>\n",
       "      <td id=\"T_9cfb4_row4_col1\" class=\"data row4 col1\" >Senior Data Engineer</td>\n",
       "      <td id=\"T_9cfb4_row4_col2\" class=\"data row4 col2\" >Paris, France</td>\n",
       "      <td id=\"T_9cfb4_row4_col3\" class=\"data row4 col3\" >Full Time</td>\n",
       "      <td id=\"T_9cfb4_row4_col4\" class=\"data row4 col4\" >Senior-level</td>\n",
       "      <td id=\"T_9cfb4_row4_col5\" class=\"data row4 col5\" > 115K+ *</td>\n",
       "      <td id=\"T_9cfb4_row4_col6\" class=\"data row4 col6\" >Airflow,Architecture,BigQuery,CI/CD,Computer Science,Data pipelines</td>\n",
       "      <td id=\"T_9cfb4_row4_col7\" class=\"data row4 col7\" >,,,,</td>\n",
       "    </tr>\n",
       "  </tbody>\n",
       "</table>\n"
      ],
      "text/plain": [
       "<pandas.io.formats.style.Styler at 0x1e1147f0fd0>"
      ]
     },
     "execution_count": 7,
     "metadata": {},
     "output_type": "execute_result"
    }
   ],
   "source": [
    "df.tail().style.set_properties(**{'background-color': '#00b9','color': 'white','border-color': '#8b8c8c'},highlight_null=\"red\").highlight_null(color=\"red\")"
   ]
  },
  {
   "cell_type": "markdown",
   "metadata": {},
   "source": [
    "<div style=\"text-align:center;color:#FFF;background-color:#FC3;height:100px\"> <h1>Data cleaning</h1></div>"
   ]
  },
  {
   "cell_type": "code",
   "execution_count": 112,
   "metadata": {},
   "outputs": [],
   "source": [
    "df.loc[df['Job Type'] == 'Internship', 'Salary'] = 0\n",
    "\n",
    "\n",
    "# Covert salary Dataype to int\n",
    "def salary_corr(txt):\n",
    "    if str(txt).find('K')!=-1:\n",
    "        return int(re.findall(r'\\d+', txt)[0])*1000\n",
    "    else:\n",
    "        return txt\n",
    "        \n",
    "\n",
    "df['Salary']=df['Salary'].apply(salary_corr)"
   ]
  },
  {
   "cell_type": "code",
   "execution_count": 113,
   "metadata": {},
   "outputs": [],
   "source": [
    "# Find the country name from location\n",
    "def detect_country_name(location_name):\n",
    "    if isinstance(location_name,float):\n",
    "        return location_name\n",
    "    elif 'REMOTE' in location_name:\n",
    "        return 'REMOTE' \n",
    "    else:\n",
    "        country=location_name.split(',')[-1]\n",
    "        try:\n",
    "            country=pycountry.countries.search_fuzzy(country)[0].name\n",
    "        except:\n",
    "            pass\n",
    "        return country.upper()\n",
    "\n",
    "df['Location']=df['Location'].apply(detect_country_name)"
   ]
  },
  {
   "cell_type": "code",
   "execution_count": 114,
   "metadata": {},
   "outputs": [],
   "source": [
    "# Fix the 'Requirment of the company ' column\n",
    "def remove_trailing_commas(input_string):\n",
    "    if isinstance(input_string,str):\n",
    "        while input_string.endswith(\",\"):\n",
    "            input_string = input_string[:-1]\n",
    "    return input_string\n",
    "\n",
    "\n",
    "df['Requirment of the company ']=df['Requirment of the company '].apply(remove_trailing_commas)"
   ]
  },
  {
   "cell_type": "code",
   "execution_count": 115,
   "metadata": {},
   "outputs": [],
   "source": [
    "# Replace the null value in the Experience by 'All-Level' because the company accepet all levels\n",
    "df['Experience level'].fillna('All-Level',inplace=True)"
   ]
  },
  {
   "cell_type": "code",
   "execution_count": 116,
   "metadata": {},
   "outputs": [],
   "source": [
    "# Drop the 'Facilities' columns\n",
    "df.drop(columns=['Facilities'],inplace=True)\n",
    "# Drop the lines thath containt null values because it's come probably from entries errors\n",
    "df.dropna(inplace=True)"
   ]
  },
  {
   "cell_type": "code",
   "execution_count": 118,
   "metadata": {},
   "outputs": [],
   "source": [
    "df.to_csv('cleaned.csv')"
   ]
  },
  {
   "cell_type": "code",
   "execution_count": 130,
   "metadata": {},
   "outputs": [
    {
     "name": "stderr",
     "output_type": "stream",
     "text": [
      "C:\\Users\\Youcode\\AppData\\Local\\Packages\\PythonSoftwareFoundation.Python.3.11_qbz5n2kfra8p0\\LocalCache\\local-packages\\Python311\\site-packages\\fuzzywuzzy\\fuzz.py:11: UserWarning: Using slow pure-python SequenceMatcher. Install python-Levenshtein to remove this warning\n",
      "  warnings.warn('Using slow pure-python SequenceMatcher. Install python-Levenshtein to remove this warning')\n"
     ]
    },
    {
     "data": {
      "text/plain": [
       "80"
      ]
     },
     "execution_count": 130,
     "metadata": {},
     "output_type": "execute_result"
    }
   ],
   "source": [
    "#make category by the job title corllation\n"
   ]
  },
  {
   "cell_type": "markdown",
   "metadata": {},
   "source": [
    "<div style=\"text-align:center;color:#FFF;background-color:#FC3;height:100px\"> <h1>Visualization</h1></div>"
   ]
  },
  {
   "cell_type": "code",
   "execution_count": 129,
   "metadata": {},
   "outputs": [
    {
     "data": {
      "text/plain": [
       "<Axes: xlabel='Job Type'>"
      ]
     },
     "execution_count": 129,
     "metadata": {},
     "output_type": "execute_result"
    },
    {
     "data": {
      "image/png": "[encoded data removed]",
      "text/plain": [
       "<Figure size 640x480 with 1 Axes>"
      ]
     },
     "metadata": {},
     "output_type": "display_data"
    }
   ],
   "source": [
    "df.groupby('Job Type')['Job Type'].count().plot()"
   ]
  }
 ],
 "metadata": {
  "kernelspec": {
   "display_name": "Python 3",
   "language": "python",
   "name": "python3"
  },
  "language_info": {
   "codemirror_mode": {
    "name": "ipython",
    "version": 3
   },
   "file_extension": ".py",
   "mimetype": "text/x-python",
   "name": "python",
   "nbconvert_exporter": "python",
   "pygments_lexer": "ipython3",
   "version": "3.11.-1"
  },
  "orig_nbformat": 4
 },
 "nbformat": 4,
 "nbformat_minor": 2
}
