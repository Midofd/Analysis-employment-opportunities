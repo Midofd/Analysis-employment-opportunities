{
 "cells": [
  {
   "cell_type": "markdown",
   "metadata": {},
   "source": [
    "<div style=\"text-align: center;color:rgb(120,120,0)\"> <h1>Importing libraries</h1></div>"
   ]
  },
  {
   "cell_type": "code",
   "execution_count": 110,
   "metadata": {},
   "outputs": [],
   "source": [
    "import pandas as pd\n",
    "import re"
   ]
  },
  {
   "cell_type": "markdown",
   "metadata": {},
   "source": [
    "<div style=\"text-align: center;color:rgb(120,120,0)\"> <h1>Data exploration</h1></div>"
   ]
  },
  {
   "cell_type": "markdown",
   "metadata": {},
   "source": [
    "<div style=\"text-align: center\"> <h2>Overview</h2></div>"
   ]
  },
  {
   "cell_type": "code",
   "execution_count": 9,
   "metadata": {},
   "outputs": [],
   "source": [
    "df=pd.read_csv('dataset/df_job.csv', encoding = 'ISO-8859-1')"
   ]
  },
  {
   "cell_type": "code",
   "execution_count": 82,
   "metadata": {},
   "outputs": [
    {
     "name": "stdout",
     "output_type": "stream",
     "text": [
      "Rows: 3198\n",
      "Columns: 8\n"
     ]
    }
   ],
   "source": [
    "print(f'Rows: {df.shape[0]}\\nColumns: {df.shape[1]}')"
   ]
  },
  {
   "cell_type": "code",
   "execution_count": 12,
   "metadata": {},
   "outputs": [
    {
     "data": {
      "text/plain": [
       "Company                       object\n",
       "Job Title                     object\n",
       "Location                      object\n",
       "Job Type                      object\n",
       "Experience level              object\n",
       "Salary                        object\n",
       "Requirment of the company     object\n",
       "Facilities                    object\n",
       "dtype: object"
      ]
     },
     "execution_count": 12,
     "metadata": {},
     "output_type": "execute_result"
    }
   ],
   "source": [
    "df.dtypes"
   ]
  },
  {
   "cell_type": "code",
   "execution_count": 92,
   "metadata": {},
   "outputs": [
    {
     "data": {
      "text/html": [
       "<style type=\"text/css\">\n",
       "#T_b9caf_row0_col0, #T_b9caf_row0_col1, #T_b9caf_row0_col2, #T_b9caf_row0_col3, #T_b9caf_row0_col4, #T_b9caf_row0_col5, #T_b9caf_row0_col6, #T_b9caf_row0_col7, #T_b9caf_row1_col0, #T_b9caf_row1_col1, #T_b9caf_row1_col2, #T_b9caf_row1_col3, #T_b9caf_row1_col4, #T_b9caf_row1_col5, #T_b9caf_row1_col6, #T_b9caf_row1_col7, #T_b9caf_row2_col0, #T_b9caf_row2_col1, #T_b9caf_row2_col2, #T_b9caf_row2_col3, #T_b9caf_row2_col5, #T_b9caf_row2_col6, #T_b9caf_row2_col7, #T_b9caf_row3_col0, #T_b9caf_row3_col1, #T_b9caf_row3_col2, #T_b9caf_row3_col3, #T_b9caf_row3_col4, #T_b9caf_row3_col5, #T_b9caf_row3_col6, #T_b9caf_row3_col7, #T_b9caf_row4_col0, #T_b9caf_row4_col1, #T_b9caf_row4_col2, #T_b9caf_row4_col3, #T_b9caf_row4_col4, #T_b9caf_row4_col5, #T_b9caf_row4_col6, #T_b9caf_row4_col7 {\n",
       "  background-color: #00b4;\n",
       "  color: white;\n",
       "  border-color: #8b8c8c;\n",
       "}\n",
       "#T_b9caf_row2_col4 {\n",
       "  background-color: #00b4;\n",
       "  color: white;\n",
       "  border-color: #8b8c8c;\n",
       "  background-color: red;\n",
       "}\n",
       "</style>\n",
       "<table id=\"T_b9caf\">\n",
       "  <thead>\n",
       "    <tr>\n",
       "      <th class=\"blank level0\" >&nbsp;</th>\n",
       "      <th id=\"T_b9caf_level0_col0\" class=\"col_heading level0 col0\" >Company</th>\n",
       "      <th id=\"T_b9caf_level0_col1\" class=\"col_heading level0 col1\" >Job Title</th>\n",
       "      <th id=\"T_b9caf_level0_col2\" class=\"col_heading level0 col2\" >Location</th>\n",
       "      <th id=\"T_b9caf_level0_col3\" class=\"col_heading level0 col3\" >Job Type</th>\n",
       "      <th id=\"T_b9caf_level0_col4\" class=\"col_heading level0 col4\" >Experience level</th>\n",
       "      <th id=\"T_b9caf_level0_col5\" class=\"col_heading level0 col5\" >Salary</th>\n",
       "      <th id=\"T_b9caf_level0_col6\" class=\"col_heading level0 col6\" >Requirment of the company </th>\n",
       "      <th id=\"T_b9caf_level0_col7\" class=\"col_heading level0 col7\" >Facilities</th>\n",
       "    </tr>\n",
       "  </thead>\n",
       "  <tbody>\n",
       "    <tr>\n",
       "      <th id=\"T_b9caf_level0_row0\" class=\"row_heading level0 row0\" >0</th>\n",
       "      <td id=\"T_b9caf_row0_col0\" class=\"data row0 col0\" >SGS</td>\n",
       "      <td id=\"T_b9caf_row0_col1\" class=\"data row0 col1\" >Clinical Data Analyst</td>\n",
       "      <td id=\"T_b9caf_row0_col2\" class=\"data row0 col2\" >Richardson, TX, United States</td>\n",
       "      <td id=\"T_b9caf_row0_col3\" class=\"data row0 col3\" >Full Time</td>\n",
       "      <td id=\"T_b9caf_row0_col4\" class=\"data row0 col4\" >Entry-level</td>\n",
       "      <td id=\"T_b9caf_row0_col5\" class=\"data row0 col5\" > 48K+ *</td>\n",
       "      <td id=\"T_b9caf_row0_col6\" class=\"data row0 col6\" >Computer Science,Data quality,Genetics,Mathematics,SAS,Statistics</td>\n",
       "      <td id=\"T_b9caf_row0_col7\" class=\"data row0 col7\" >,,,,</td>\n",
       "    </tr>\n",
       "    <tr>\n",
       "      <th id=\"T_b9caf_level0_row1\" class=\"row_heading level0 row1\" >1</th>\n",
       "      <td id=\"T_b9caf_row1_col0\" class=\"data row1 col0\" >Ocorian</td>\n",
       "      <td id=\"T_b9caf_row1_col1\" class=\"data row1 col1\" >AML/CFT & Data Analyst</td>\n",
       "      <td id=\"T_b9caf_row1_col2\" class=\"data row1 col2\" >Ebène, Mauritius</td>\n",
       "      <td id=\"T_b9caf_row1_col3\" class=\"data row1 col3\" >Full Time</td>\n",
       "      <td id=\"T_b9caf_row1_col4\" class=\"data row1 col4\" >Entry-level</td>\n",
       "      <td id=\"T_b9caf_row1_col5\" class=\"data row1 col5\" > 48K+ *</td>\n",
       "      <td id=\"T_b9caf_row1_col6\" class=\"data row1 col6\" >Agile,Data management,Finance,Security,,</td>\n",
       "      <td id=\"T_b9caf_row1_col7\" class=\"data row1 col7\" >,,,,</td>\n",
       "    </tr>\n",
       "    <tr>\n",
       "      <th id=\"T_b9caf_level0_row2\" class=\"row_heading level0 row2\" >2</th>\n",
       "      <td id=\"T_b9caf_row2_col0\" class=\"data row2 col0\" >Cricut</td>\n",
       "      <td id=\"T_b9caf_row2_col1\" class=\"data row2 col1\" >Machine Learning Engineer</td>\n",
       "      <td id=\"T_b9caf_row2_col2\" class=\"data row2 col2\" >South Jordan, UT, United States</td>\n",
       "      <td id=\"T_b9caf_row2_col3\" class=\"data row2 col3\" >Full Time</td>\n",
       "      <td id=\"T_b9caf_row2_col4\" class=\"data row2 col4\" >nan</td>\n",
       "      <td id=\"T_b9caf_row2_col5\" class=\"data row2 col5\" > 90K+ *</td>\n",
       "      <td id=\"T_b9caf_row2_col6\" class=\"data row2 col6\" >Agile,Architecture,AWS,Computer Science,Computer Vision,Deep Learning</td>\n",
       "      <td id=\"T_b9caf_row2_col7\" class=\"data row2 col7\" >Career development,,,,</td>\n",
       "    </tr>\n",
       "    <tr>\n",
       "      <th id=\"T_b9caf_level0_row3\" class=\"row_heading level0 row3\" >3</th>\n",
       "      <td id=\"T_b9caf_row3_col0\" class=\"data row3 col0\" >Bosch Group</td>\n",
       "      <td id=\"T_b9caf_row3_col1\" class=\"data row3 col1\" >Application Developer & Data Analyst</td>\n",
       "      <td id=\"T_b9caf_row3_col2\" class=\"data row3 col2\" >Nonantola, Italy</td>\n",
       "      <td id=\"T_b9caf_row3_col3\" class=\"data row3 col3\" >Full Time</td>\n",
       "      <td id=\"T_b9caf_row3_col4\" class=\"data row3 col4\" >Entry-level</td>\n",
       "      <td id=\"T_b9caf_row3_col5\" class=\"data row3 col5\" > 48K+ *</td>\n",
       "      <td id=\"T_b9caf_row3_col6\" class=\"data row3 col6\" >Engineering,Industrial,Oracle,Power BI,R,R&D</td>\n",
       "      <td id=\"T_b9caf_row3_col7\" class=\"data row3 col7\" >,,,,</td>\n",
       "    </tr>\n",
       "    <tr>\n",
       "      <th id=\"T_b9caf_level0_row4\" class=\"row_heading level0 row4\" >4</th>\n",
       "      <td id=\"T_b9caf_row4_col0\" class=\"data row4 col0\" >Publicis Groupe</td>\n",
       "      <td id=\"T_b9caf_row4_col1\" class=\"data row4 col1\" >Data Engineer Full time (Public Sector) USA</td>\n",
       "      <td id=\"T_b9caf_row4_col2\" class=\"data row4 col2\" >Arlington, VA, United States</td>\n",
       "      <td id=\"T_b9caf_row4_col3\" class=\"data row4 col3\" >Full Time</td>\n",
       "      <td id=\"T_b9caf_row4_col4\" class=\"data row4 col4\" >Mid-level</td>\n",
       "      <td id=\"T_b9caf_row4_col5\" class=\"data row4 col5\" > 108K+</td>\n",
       "      <td id=\"T_b9caf_row4_col6\" class=\"data row4 col6\" >AWS,Azure,Computer Science,Consulting,Dataflow,Data pipelines</td>\n",
       "      <td id=\"T_b9caf_row4_col7\" class=\"data row4 col7\" >Flex hours,Flex vacation,Parental leave,Unlimited paid time off,</td>\n",
       "    </tr>\n",
       "  </tbody>\n",
       "</table>\n"
      ],
      "text/plain": [
       "<pandas.io.formats.style.Styler at 0x1bfc4e9a090>"
      ]
     },
     "execution_count": 92,
     "metadata": {},
     "output_type": "execute_result"
    }
   ],
   "source": [
    "df.head().style.set_properties(**{'background-color': '#00b4','color': 'white','border-color': '#8b8c8c'}).highlight_null(color=\"red\")"
   ]
  },
  {
   "cell_type": "code",
   "execution_count": 84,
   "metadata": {},
   "outputs": [
    {
     "data": {
      "text/html": [
       "<style type=\"text/css\">\n",
       "#T_c7dce_row0_col0, #T_c7dce_row0_col1, #T_c7dce_row0_col2, #T_c7dce_row0_col3, #T_c7dce_row0_col4, #T_c7dce_row0_col5, #T_c7dce_row0_col6, #T_c7dce_row0_col7, #T_c7dce_row1_col0, #T_c7dce_row1_col1, #T_c7dce_row1_col2, #T_c7dce_row1_col3, #T_c7dce_row1_col4, #T_c7dce_row1_col5, #T_c7dce_row1_col6, #T_c7dce_row1_col7, #T_c7dce_row2_col0, #T_c7dce_row2_col1, #T_c7dce_row2_col2, #T_c7dce_row2_col3, #T_c7dce_row2_col4, #T_c7dce_row2_col5, #T_c7dce_row2_col6, #T_c7dce_row2_col7, #T_c7dce_row3_col0, #T_c7dce_row3_col1, #T_c7dce_row3_col2, #T_c7dce_row3_col3, #T_c7dce_row3_col4, #T_c7dce_row3_col5, #T_c7dce_row3_col6, #T_c7dce_row3_col7, #T_c7dce_row4_col0, #T_c7dce_row4_col1, #T_c7dce_row4_col2, #T_c7dce_row4_col3, #T_c7dce_row4_col4, #T_c7dce_row4_col5, #T_c7dce_row4_col6, #T_c7dce_row4_col7 {\n",
       "  background-color: #00b9;\n",
       "  color: white;\n",
       "  border-color: #8b8c8c;\n",
       "  highlight_null: red;\n",
       "}\n",
       "</style>\n",
       "<table id=\"T_c7dce\">\n",
       "  <thead>\n",
       "    <tr>\n",
       "      <th class=\"blank level0\" >&nbsp;</th>\n",
       "      <th id=\"T_c7dce_level0_col0\" class=\"col_heading level0 col0\" >Company</th>\n",
       "      <th id=\"T_c7dce_level0_col1\" class=\"col_heading level0 col1\" >Job Title</th>\n",
       "      <th id=\"T_c7dce_level0_col2\" class=\"col_heading level0 col2\" >Location</th>\n",
       "      <th id=\"T_c7dce_level0_col3\" class=\"col_heading level0 col3\" >Job Type</th>\n",
       "      <th id=\"T_c7dce_level0_col4\" class=\"col_heading level0 col4\" >Experience level</th>\n",
       "      <th id=\"T_c7dce_level0_col5\" class=\"col_heading level0 col5\" >Salary</th>\n",
       "      <th id=\"T_c7dce_level0_col6\" class=\"col_heading level0 col6\" >Requirment of the company </th>\n",
       "      <th id=\"T_c7dce_level0_col7\" class=\"col_heading level0 col7\" >Facilities</th>\n",
       "    </tr>\n",
       "  </thead>\n",
       "  <tbody>\n",
       "    <tr>\n",
       "      <th id=\"T_c7dce_level0_row0\" class=\"row_heading level0 row0\" >3193</th>\n",
       "      <td id=\"T_c7dce_row0_col0\" class=\"data row0 col0\" >Western Digital</td>\n",
       "      <td id=\"T_c7dce_row0_col1\" class=\"data row0 col1\" >Data Scientist - New College Graduate</td>\n",
       "      <td id=\"T_c7dce_row0_col2\" class=\"data row0 col2\" >Biñan, Philippines</td>\n",
       "      <td id=\"T_c7dce_row0_col3\" class=\"data row0 col3\" >Full Time</td>\n",
       "      <td id=\"T_c7dce_row0_col4\" class=\"data row0 col4\" >Entry-level</td>\n",
       "      <td id=\"T_c7dce_row0_col5\" class=\"data row0 col5\" > 39K+ *</td>\n",
       "      <td id=\"T_c7dce_row0_col6\" class=\"data row0 col6\" >APIs,Clustering,Computer Science,Data visualization,Deep Learning,Docker</td>\n",
       "      <td id=\"T_c7dce_row0_col7\" class=\"data row0 col7\" >Career development,,,,</td>\n",
       "    </tr>\n",
       "    <tr>\n",
       "      <th id=\"T_c7dce_level0_row1\" class=\"row_heading level0 row1\" >3194</th>\n",
       "      <td id=\"T_c7dce_row1_col0\" class=\"data row1 col0\" >Experian</td>\n",
       "      <td id=\"T_c7dce_row1_col1\" class=\"data row1 col1\" >Cloud Data Analyst</td>\n",
       "      <td id=\"T_c7dce_row1_col2\" class=\"data row1 col2\" >Heredia, Costa Rica</td>\n",
       "      <td id=\"T_c7dce_row1_col3\" class=\"data row1 col3\" >Full Time</td>\n",
       "      <td id=\"T_c7dce_row1_col4\" class=\"data row1 col4\" >Senior-level</td>\n",
       "      <td id=\"T_c7dce_row1_col5\" class=\"data row1 col5\" > 92K+ *</td>\n",
       "      <td id=\"T_c7dce_row1_col6\" class=\"data row1 col6\" >AWS,Big Data,Computer Science,GCP,Snowflake,SQL</td>\n",
       "      <td id=\"T_c7dce_row1_col7\" class=\"data row1 col7\" >Equity,Medical leave,Salary bonus,,</td>\n",
       "    </tr>\n",
       "    <tr>\n",
       "      <th id=\"T_c7dce_level0_row2\" class=\"row_heading level0 row2\" >3195</th>\n",
       "      <td id=\"T_c7dce_row2_col0\" class=\"data row2 col0\" >Locus Robotics</td>\n",
       "      <td id=\"T_c7dce_row2_col1\" class=\"data row2 col1\" >Robotics Engineer, Sensors</td>\n",
       "      <td id=\"T_c7dce_row2_col2\" class=\"data row2 col2\" >Wilmington, MA, United States</td>\n",
       "      <td id=\"T_c7dce_row2_col3\" class=\"data row2 col3\" >Full Time</td>\n",
       "      <td id=\"T_c7dce_row2_col4\" class=\"data row2 col4\" >Senior-level</td>\n",
       "      <td id=\"T_c7dce_row2_col5\" class=\"data row2 col5\" > 62K+ *</td>\n",
       "      <td id=\"T_c7dce_row2_col6\" class=\"data row2 col6\" >E-commerce,Engineering,Linux,Python,Robotics,Statistics</td>\n",
       "      <td id=\"T_c7dce_row2_col7\" class=\"data row2 col7\" >,,,,</td>\n",
       "    </tr>\n",
       "    <tr>\n",
       "      <th id=\"T_c7dce_level0_row3\" class=\"row_heading level0 row3\" >3196</th>\n",
       "      <td id=\"T_c7dce_row3_col0\" class=\"data row3 col0\" >ATB Financial</td>\n",
       "      <td id=\"T_c7dce_row3_col1\" class=\"data row3 col1\" >Data Scientist</td>\n",
       "      <td id=\"T_c7dce_row3_col2\" class=\"data row3 col2\" >Edmonton, Alberta, Canada</td>\n",
       "      <td id=\"T_c7dce_row3_col3\" class=\"data row3 col3\" >Full Time</td>\n",
       "      <td id=\"T_c7dce_row3_col4\" class=\"data row3 col4\" >Entry-level</td>\n",
       "      <td id=\"T_c7dce_row3_col5\" class=\"data row3 col5\" > 39K+ *</td>\n",
       "      <td id=\"T_c7dce_row3_col6\" class=\"data row3 col6\" >Computer Science,Data Analytics,Data Mining,Economics,Engineering,GCP</td>\n",
       "      <td id=\"T_c7dce_row3_col7\" class=\"data row3 col7\" >Career development,Startup environment,,,</td>\n",
       "    </tr>\n",
       "    <tr>\n",
       "      <th id=\"T_c7dce_level0_row4\" class=\"row_heading level0 row4\" >3197</th>\n",
       "      <td id=\"T_c7dce_row4_col0\" class=\"data row4 col0\" >Shippeo</td>\n",
       "      <td id=\"T_c7dce_row4_col1\" class=\"data row4 col1\" >Senior Data Engineer</td>\n",
       "      <td id=\"T_c7dce_row4_col2\" class=\"data row4 col2\" >Paris, France</td>\n",
       "      <td id=\"T_c7dce_row4_col3\" class=\"data row4 col3\" >Full Time</td>\n",
       "      <td id=\"T_c7dce_row4_col4\" class=\"data row4 col4\" >Senior-level</td>\n",
       "      <td id=\"T_c7dce_row4_col5\" class=\"data row4 col5\" > 115K+ *</td>\n",
       "      <td id=\"T_c7dce_row4_col6\" class=\"data row4 col6\" >Airflow,Architecture,BigQuery,CI/CD,Computer Science,Data pipelines</td>\n",
       "      <td id=\"T_c7dce_row4_col7\" class=\"data row4 col7\" >,,,,</td>\n",
       "    </tr>\n",
       "  </tbody>\n",
       "</table>\n"
      ],
      "text/plain": [
       "<pandas.io.formats.style.Styler at 0x1bfc34e1010>"
      ]
     },
     "execution_count": 84,
     "metadata": {},
     "output_type": "execute_result"
    }
   ],
   "source": [
    "df.tail().style.set_properties(**{'background-color': '#00b9','color': 'white','border-color': '#8b8c8c'},highlight_null=\"red\").highlight_null(color=\"red\")"
   ]
  },
  {
   "cell_type": "code",
   "execution_count": 63,
   "metadata": {},
   "outputs": [
    {
     "data": {
      "text/plain": [
       "Company                         1\n",
       "Job Title                       1\n",
       "Location                        1\n",
       "Job Type                        1\n",
       "Experience level              236\n",
       "Salary                        189\n",
       "Requirment of the company       0\n",
       "Facilities                      0\n",
       "dtype: int64"
      ]
     },
     "execution_count": 63,
     "metadata": {},
     "output_type": "execute_result"
    }
   ],
   "source": [
    "df.isnull().sum()"
   ]
  },
  {
   "cell_type": "code",
   "execution_count": 64,
   "metadata": {},
   "outputs": [
    {
     "data": {
      "text/plain": [
       "Company                       1106\n",
       "Job Title                     2138\n",
       "Location                      1117\n",
       "Job Type                         3\n",
       "Experience level                 4\n",
       "Salary                         218\n",
       "Requirment of the company     2600\n",
       "Facilities                     777\n",
       "dtype: int64"
      ]
     },
     "execution_count": 64,
     "metadata": {},
     "output_type": "execute_result"
    }
   ],
   "source": [
    "df.nunique()"
   ]
  },
  {
   "cell_type": "code",
   "execution_count": 65,
   "metadata": {},
   "outputs": [
    {
     "data": {
      "text/plain": [
       "202"
      ]
     },
     "execution_count": 65,
     "metadata": {},
     "output_type": "execute_result"
    }
   ],
   "source": [
    "df.duplicated().sum()"
   ]
  },
  {
   "cell_type": "markdown",
   "metadata": {},
   "source": [
    "<div style=\"text-align: center;color:rgb(120,120,0)\"> <h1>Data cleaning</h1></div>"
   ]
  },
  {
   "cell_type": "code",
   "execution_count": 184,
   "metadata": {},
   "outputs": [
    {
     "name": "stderr",
     "output_type": "stream",
     "text": [
      "C:\\Users\\Youcode\\AppData\\Local\\Temp\\ipykernel_76908\\294251041.py:21: SettingWithCopyWarning: \n",
      "A value is trying to be set on a copy of a slice from a DataFrame.\n",
      "Try using .loc[row_indexer,col_indexer] = value instead\n",
      "\n",
      "See the caveats in the documentation: https://pandas.pydata.org/pandas-docs/stable/user_guide/indexing.html#returning-a-view-versus-a-copy\n",
      "  newdf['country']=newdf['Location'].apply(detect_country_name)\n"
     ]
    },
    {
     "data": {
      "text/html": [
       "<div>\n",
       "<style scoped>\n",
       "    .dataframe tbody tr th:only-of-type {\n",
       "        vertical-align: middle;\n",
       "    }\n",
       "\n",
       "    .dataframe tbody tr th {\n",
       "        vertical-align: top;\n",
       "    }\n",
       "\n",
       "    .dataframe thead th {\n",
       "        text-align: right;\n",
       "    }\n",
       "</style>\n",
       "<table border=\"1\" class=\"dataframe\">\n",
       "  <thead>\n",
       "    <tr style=\"text-align: right;\">\n",
       "      <th></th>\n",
       "      <th>Company</th>\n",
       "      <th>Job Title</th>\n",
       "      <th>Location</th>\n",
       "      <th>Job Type</th>\n",
       "      <th>Experience level</th>\n",
       "      <th>Salary</th>\n",
       "      <th>Requirment of the company</th>\n",
       "      <th>Facilities</th>\n",
       "      <th>country</th>\n",
       "    </tr>\n",
       "  </thead>\n",
       "  <tbody>\n",
       "    <tr>\n",
       "      <th>0</th>\n",
       "      <td>SGS</td>\n",
       "      <td>Clinical Data Analyst</td>\n",
       "      <td>Richardson, TX, United States</td>\n",
       "      <td>Full Time</td>\n",
       "      <td>Entry-level</td>\n",
       "      <td>4800</td>\n",
       "      <td>Computer Science,Data quality,Genetics,Mathema...</td>\n",
       "      <td>,,,,</td>\n",
       "      <td>Richardson, TX, United States</td>\n",
       "    </tr>\n",
       "    <tr>\n",
       "      <th>1</th>\n",
       "      <td>Ocorian</td>\n",
       "      <td>AML/CFT &amp; Data Analyst</td>\n",
       "      <td>Ebène, Mauritius</td>\n",
       "      <td>Full Time</td>\n",
       "      <td>Entry-level</td>\n",
       "      <td>4800</td>\n",
       "      <td>Agile,Data management,Finance,Security,,</td>\n",
       "      <td>,,,,</td>\n",
       "      <td>Ebène, Mauritius</td>\n",
       "    </tr>\n",
       "    <tr>\n",
       "      <th>3</th>\n",
       "      <td>Bosch Group</td>\n",
       "      <td>Application Developer &amp; Data Analyst</td>\n",
       "      <td>Nonantola, Italy</td>\n",
       "      <td>Full Time</td>\n",
       "      <td>Entry-level</td>\n",
       "      <td>4800</td>\n",
       "      <td>Engineering,Industrial,Oracle,Power BI,R,R&amp;D</td>\n",
       "      <td>,,,,</td>\n",
       "      <td>Nonantola, Italy</td>\n",
       "    </tr>\n",
       "    <tr>\n",
       "      <th>4</th>\n",
       "      <td>Publicis Groupe</td>\n",
       "      <td>Data Engineer Full time (Public Sector) USA</td>\n",
       "      <td>Arlington, VA, United States</td>\n",
       "      <td>Full Time</td>\n",
       "      <td>Mid-level</td>\n",
       "      <td>10800</td>\n",
       "      <td>AWS,Azure,Computer Science,Consulting,Dataflow...</td>\n",
       "      <td>Flex hours,Flex vacation,Parental leave,Unlimi...</td>\n",
       "      <td>Arlington, VA, United States</td>\n",
       "    </tr>\n",
       "    <tr>\n",
       "      <th>5</th>\n",
       "      <td>ServiceNow</td>\n",
       "      <td>Sr Staff Data Scientist - ATG</td>\n",
       "      <td>Kirkland, Washington, United States</td>\n",
       "      <td>Full Time</td>\n",
       "      <td>Senior-level</td>\n",
       "      <td>18400</td>\n",
       "      <td>Computer Science,Deep Learning,Industrial,Mach...</td>\n",
       "      <td>401(k) matching,Career development,Competitive...</td>\n",
       "      <td>Kirkland, Washington, United States</td>\n",
       "    </tr>\n",
       "    <tr>\n",
       "      <th>...</th>\n",
       "      <td>...</td>\n",
       "      <td>...</td>\n",
       "      <td>...</td>\n",
       "      <td>...</td>\n",
       "      <td>...</td>\n",
       "      <td>...</td>\n",
       "      <td>...</td>\n",
       "      <td>...</td>\n",
       "      <td>...</td>\n",
       "    </tr>\n",
       "    <tr>\n",
       "      <th>3193</th>\n",
       "      <td>Western Digital</td>\n",
       "      <td>Data Scientist - New College Graduate</td>\n",
       "      <td>Biñan, Philippines</td>\n",
       "      <td>Full Time</td>\n",
       "      <td>Entry-level</td>\n",
       "      <td>3900</td>\n",
       "      <td>APIs,Clustering,Computer Science,Data visualiz...</td>\n",
       "      <td>Career development,,,,</td>\n",
       "      <td>Biñan, Philippines</td>\n",
       "    </tr>\n",
       "    <tr>\n",
       "      <th>3194</th>\n",
       "      <td>Experian</td>\n",
       "      <td>Cloud Data Analyst</td>\n",
       "      <td>Heredia, Costa Rica</td>\n",
       "      <td>Full Time</td>\n",
       "      <td>Senior-level</td>\n",
       "      <td>9200</td>\n",
       "      <td>AWS,Big Data,Computer Science,GCP,Snowflake,SQL</td>\n",
       "      <td>Equity,Medical leave,Salary bonus,,</td>\n",
       "      <td>Heredia, Costa Rica</td>\n",
       "    </tr>\n",
       "    <tr>\n",
       "      <th>3195</th>\n",
       "      <td>Locus Robotics</td>\n",
       "      <td>Robotics Engineer, Sensors</td>\n",
       "      <td>Wilmington, MA, United States</td>\n",
       "      <td>Full Time</td>\n",
       "      <td>Senior-level</td>\n",
       "      <td>6200</td>\n",
       "      <td>E-commerce,Engineering,Linux,Python,Robotics,S...</td>\n",
       "      <td>,,,,</td>\n",
       "      <td>Wilmington, MA, United States</td>\n",
       "    </tr>\n",
       "    <tr>\n",
       "      <th>3196</th>\n",
       "      <td>ATB Financial</td>\n",
       "      <td>Data Scientist</td>\n",
       "      <td>Edmonton, Alberta, Canada</td>\n",
       "      <td>Full Time</td>\n",
       "      <td>Entry-level</td>\n",
       "      <td>3900</td>\n",
       "      <td>Computer Science,Data Analytics,Data Mining,Ec...</td>\n",
       "      <td>Career development,Startup environment,,,</td>\n",
       "      <td>Edmonton, Alberta, Canada</td>\n",
       "    </tr>\n",
       "    <tr>\n",
       "      <th>3197</th>\n",
       "      <td>Shippeo</td>\n",
       "      <td>Senior Data Engineer</td>\n",
       "      <td>Paris, France</td>\n",
       "      <td>Full Time</td>\n",
       "      <td>Senior-level</td>\n",
       "      <td>11500</td>\n",
       "      <td>Airflow,Architecture,BigQuery,CI/CD,Computer S...</td>\n",
       "      <td>,,,,</td>\n",
       "      <td>Paris, France</td>\n",
       "    </tr>\n",
       "  </tbody>\n",
       "</table>\n",
       "<p>2777 rows × 9 columns</p>\n",
       "</div>"
      ],
      "text/plain": [
       "              Company                                    Job Title  \\\n",
       "0                 SGS                        Clinical Data Analyst   \n",
       "1             Ocorian                       AML/CFT & Data Analyst   \n",
       "3         Bosch Group         Application Developer & Data Analyst   \n",
       "4     Publicis Groupe  Data Engineer Full time (Public Sector) USA   \n",
       "5          ServiceNow                Sr Staff Data Scientist - ATG   \n",
       "...               ...                                          ...   \n",
       "3193  Western Digital        Data Scientist - New College Graduate   \n",
       "3194         Experian                           Cloud Data Analyst   \n",
       "3195   Locus Robotics                   Robotics Engineer, Sensors   \n",
       "3196    ATB Financial                               Data Scientist   \n",
       "3197          Shippeo                         Senior Data Engineer   \n",
       "\n",
       "                                 Location   Job Type Experience level  Salary  \\\n",
       "0           Richardson, TX, United States  Full Time      Entry-level    4800   \n",
       "1                        Ebène, Mauritius  Full Time      Entry-level    4800   \n",
       "3                        Nonantola, Italy  Full Time      Entry-level    4800   \n",
       "4            Arlington, VA, United States  Full Time        Mid-level   10800   \n",
       "5     Kirkland, Washington, United States  Full Time     Senior-level   18400   \n",
       "...                                   ...        ...              ...     ...   \n",
       "3193                   Biñan, Philippines  Full Time      Entry-level    3900   \n",
       "3194                  Heredia, Costa Rica  Full Time     Senior-level    9200   \n",
       "3195        Wilmington, MA, United States  Full Time     Senior-level    6200   \n",
       "3196            Edmonton, Alberta, Canada  Full Time      Entry-level    3900   \n",
       "3197                        Paris, France  Full Time     Senior-level   11500   \n",
       "\n",
       "                             Requirment of the company   \\\n",
       "0     Computer Science,Data quality,Genetics,Mathema...   \n",
       "1              Agile,Data management,Finance,Security,,   \n",
       "3          Engineering,Industrial,Oracle,Power BI,R,R&D   \n",
       "4     AWS,Azure,Computer Science,Consulting,Dataflow...   \n",
       "5     Computer Science,Deep Learning,Industrial,Mach...   \n",
       "...                                                 ...   \n",
       "3193  APIs,Clustering,Computer Science,Data visualiz...   \n",
       "3194    AWS,Big Data,Computer Science,GCP,Snowflake,SQL   \n",
       "3195  E-commerce,Engineering,Linux,Python,Robotics,S...   \n",
       "3196  Computer Science,Data Analytics,Data Mining,Ec...   \n",
       "3197  Airflow,Architecture,BigQuery,CI/CD,Computer S...   \n",
       "\n",
       "                                             Facilities  \\\n",
       "0                                                  ,,,,   \n",
       "1                                                  ,,,,   \n",
       "3                                                  ,,,,   \n",
       "4     Flex hours,Flex vacation,Parental leave,Unlimi...   \n",
       "5     401(k) matching,Career development,Competitive...   \n",
       "...                                                 ...   \n",
       "3193                             Career development,,,,   \n",
       "3194                Equity,Medical leave,Salary bonus,,   \n",
       "3195                                               ,,,,   \n",
       "3196          Career development,Startup environment,,,   \n",
       "3197                                               ,,,,   \n",
       "\n",
       "                                  country  \n",
       "0           Richardson, TX, United States  \n",
       "1                        Ebène, Mauritius  \n",
       "3                        Nonantola, Italy  \n",
       "4            Arlington, VA, United States  \n",
       "5     Kirkland, Washington, United States  \n",
       "...                                   ...  \n",
       "3193                   Biñan, Philippines  \n",
       "3194                  Heredia, Costa Rica  \n",
       "3195        Wilmington, MA, United States  \n",
       "3196            Edmonton, Alberta, Canada  \n",
       "3197                        Paris, France  \n",
       "\n",
       "[2777 rows x 9 columns]"
      ]
     },
     "execution_count": 184,
     "metadata": {},
     "output_type": "execute_result"
    }
   ],
   "source": [
    "import pycountry\n",
    "\n",
    "\n",
    "newdf=df.dropna()\n",
    "\n",
    "def salary_corr(txt):\n",
    "    return int(re.findall(r'\\d+', txt)[0])*100\n",
    "\n",
    "def detect_country_name(location_name):\n",
    "    locstion_name=location_name.split(',')[-1]\n",
    "    try:\n",
    "        location_name=pycountry.countries.search_fuzzy(location_name)[0].name\n",
    "    except:\n",
    "        pass\n",
    "    print(location_name)\n",
    "    return location_name\n",
    "\n",
    "\n",
    "\n",
    "newdf['Salary']=newdf['Salary'].apply(salary_corr)\n",
    "\n",
    "newdf['country']=newdf['Location'].apply(detect_country_name)\n",
    "\n",
    "newdf"
   ]
  }
 ],
 "metadata": {
  "kernelspec": {
   "display_name": "Python 3",
   "language": "python",
   "name": "python3"
  },
  "language_info": {
   "codemirror_mode": {
    "name": "ipython",
    "version": 3
   },
   "file_extension": ".py",
   "mimetype": "text/x-python",
   "name": "python",
   "nbconvert_exporter": "python",
   "pygments_lexer": "ipython3",
   "version": "3.11.4"
  },
  "orig_nbformat": 4
 },
 "nbformat": 4,
 "nbformat_minor": 2
}
